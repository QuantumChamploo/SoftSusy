{
 "cells": [
  {
   "cell_type": "code",
   "execution_count": 1,
   "metadata": {},
   "outputs": [],
   "source": [
    "import pyslha\n"
   ]
  },
  {
   "cell_type": "code",
   "execution_count": 2,
   "metadata": {},
   "outputs": [
    {
     "ename": "SyntaxError",
     "evalue": "invalid syntax (<ipython-input-2-134f62c237af>, line 1)",
     "output_type": "error",
     "traceback": [
      "\u001b[0;36m  File \u001b[0;32m\"<ipython-input-2-134f62c237af>\"\u001b[0;36m, line \u001b[0;32m1\u001b[0m\n\u001b[0;31m    slha2isawig gmsbtest.slha\u001b[0m\n\u001b[0m                       ^\u001b[0m\n\u001b[0;31mSyntaxError\u001b[0m\u001b[0;31m:\u001b[0m invalid syntax\n"
     ]
    }
   ],
   "source": [
    "slha2isawig gmsbtest.slha"
   ]
  },
  {
   "cell_type": "code",
   "execution_count": 5,
   "metadata": {},
   "outputs": [
    {
     "ename": "SyntaxError",
     "evalue": "invalid syntax (<ipython-input-5-e226ba2bf614>, line 1)",
     "output_type": "error",
     "traceback": [
      "\u001b[0;36m  File \u001b[0;32m\"<ipython-input-5-e226ba2bf614>\"\u001b[0;36m, line \u001b[0;32m1\u001b[0m\n\u001b[0;31m    slhaplot \"gmsbtest\"\u001b[0m\n\u001b[0m                      ^\u001b[0m\n\u001b[0;31mSyntaxError\u001b[0m\u001b[0;31m:\u001b[0m invalid syntax\n"
     ]
    }
   ],
   "source": [
    "slhaplot \"gmsbtest\""
   ]
  },
  {
   "cell_type": "code",
   "execution_count": 7,
   "metadata": {},
   "outputs": [
    {
     "ename": "SyntaxError",
     "evalue": "invalid syntax (<ipython-input-7-42a6c27aef01>, line 1)",
     "output_type": "error",
     "traceback": [
      "\u001b[0;36m  File \u001b[0;32m\"<ipython-input-7-42a6c27aef01>\"\u001b[0;36m, line \u001b[0;32m1\u001b[0m\n\u001b[0;31m    slhaplot asdfasdf.slha dfg\u001b[0m\n\u001b[0m                    ^\u001b[0m\n\u001b[0;31mSyntaxError\u001b[0m\u001b[0;31m:\u001b[0m invalid syntax\n"
     ]
    }
   ],
   "source": [
    "slhaplot asdfasdf.slha dfg\n"
   ]
  },
  {
   "cell_type": "code",
   "execution_count": 8,
   "metadata": {},
   "outputs": [
    {
     "ename": "NameError",
     "evalue": "name 'python' is not defined",
     "output_type": "error",
     "traceback": [
      "\u001b[0;31m---------------------------------------------------------------------------\u001b[0m",
      "\u001b[0;31mNameError\u001b[0m                                 Traceback (most recent call last)",
      "\u001b[0;32m<ipython-input-8-2a0663a0ebca>\u001b[0m in \u001b[0;36m<module>\u001b[0;34m()\u001b[0m\n\u001b[0;32m----> 1\u001b[0;31m \u001b[0mpython\u001b[0m \u001b[0;34m-\u001b[0m\u001b[0mV\u001b[0m\u001b[0;34m\u001b[0m\u001b[0m\n\u001b[0m",
      "\u001b[0;31mNameError\u001b[0m: name 'python' is not defined"
     ]
    }
   ],
   "source": [
    "python -V\n"
   ]
  },
  {
   "cell_type": "code",
   "execution_count": null,
   "metadata": {},
   "outputs": [
    {
     "name": "stdout",
     "output_type": "stream",
     "text": [
      "import _frozen_importlib # frozen\r\n",
      "import _imp # builtin\r\n",
      "import sys # builtin\r\n",
      "import '_warnings' # <class '_frozen_importlib.BuiltinImporter'>\r\n",
      "import '_thread' # <class '_frozen_importlib.BuiltinImporter'>\r\n",
      "import '_weakref' # <class '_frozen_importlib.BuiltinImporter'>\r\n",
      "import '_frozen_importlib_external' # <class '_frozen_importlib.FrozenImporter'>\r\n",
      "import '_io' # <class '_frozen_importlib.BuiltinImporter'>\r\n",
      "import 'marshal' # <class '_frozen_importlib.BuiltinImporter'>\r\n",
      "import 'posix' # <class '_frozen_importlib.BuiltinImporter'>\r\n",
      "import _thread # previously loaded ('_thread')\r\n",
      "import '_thread' # <class '_frozen_importlib.BuiltinImporter'>\r\n",
      "import _weakref # previously loaded ('_weakref')\r\n",
      "import '_weakref' # <class '_frozen_importlib.BuiltinImporter'>\r\n",
      "# installing zipimport hook\r\n",
      "import 'zipimport' # <class '_frozen_importlib.BuiltinImporter'>\r\n",
      "# installed zipimport hook\r\n",
      "# /anaconda3/lib/python3.6/encodings/__pycache__/__init__.cpython-36.pyc matches /anaconda3/lib/python3.6/encodings/__init__.py\r\n",
      "# code object from '/anaconda3/lib/python3.6/encodings/__pycache__/__init__.cpython-36.pyc'\r\n",
      "# /anaconda3/lib/python3.6/__pycache__/codecs.cpython-36.pyc matches /anaconda3/lib/python3.6/codecs.py\r\n",
      "# code object from '/anaconda3/lib/python3.6/__pycache__/codecs.cpython-36.pyc'\r\n",
      "import '_codecs' # <class '_frozen_importlib.BuiltinImporter'>\r\n",
      "import 'codecs' # <_frozen_importlib_external.SourceFileLoader object at 0x109d68748>\r\n",
      "# /anaconda3/lib/python3.6/encodings/__pycache__/aliases.cpython-36.pyc matches /anaconda3/lib/python3.6/encodings/aliases.py\r\n",
      "# code object from '/anaconda3/lib/python3.6/encodings/__pycache__/aliases.cpython-36.pyc'\r\n",
      "import 'encodings.aliases' # <_frozen_importlib_external.SourceFileLoader object at 0x109d81278>\r\n",
      "import 'encodings' # <_frozen_importlib_external.SourceFileLoader object at 0x109d682b0>\r\n",
      "# /anaconda3/lib/python3.6/encodings/__pycache__/utf_8.cpython-36.pyc matches /anaconda3/lib/python3.6/encodings/utf_8.py\r\n",
      "# code object from '/anaconda3/lib/python3.6/encodings/__pycache__/utf_8.cpython-36.pyc'\r\n",
      "import 'encodings.utf_8' # <_frozen_importlib_external.SourceFileLoader object at 0x109d8c080>\r\n",
      "import '_signal' # <class '_frozen_importlib.BuiltinImporter'>\r\n",
      "# /anaconda3/lib/python3.6/encodings/__pycache__/latin_1.cpython-36.pyc matches /anaconda3/lib/python3.6/encodings/latin_1.py\r\n",
      "# code object from '/anaconda3/lib/python3.6/encodings/__pycache__/latin_1.cpython-36.pyc'\r\n",
      "import 'encodings.latin_1' # <_frozen_importlib_external.SourceFileLoader object at 0x109d8cb00>\r\n",
      "# /anaconda3/lib/python3.6/__pycache__/io.cpython-36.pyc matches /anaconda3/lib/python3.6/io.py\r\n",
      "# code object from '/anaconda3/lib/python3.6/__pycache__/io.cpython-36.pyc'\r\n",
      "# /anaconda3/lib/python3.6/__pycache__/abc.cpython-36.pyc matches /anaconda3/lib/python3.6/abc.py\r\n",
      "# code object from '/anaconda3/lib/python3.6/__pycache__/abc.cpython-36.pyc'\r\n",
      "# /anaconda3/lib/python3.6/__pycache__/_weakrefset.cpython-36.pyc matches /anaconda3/lib/python3.6/_weakrefset.py\r\n",
      "# code object from '/anaconda3/lib/python3.6/__pycache__/_weakrefset.cpython-36.pyc'\r\n",
      "import '_weakrefset' # <_frozen_importlib_external.SourceFileLoader object at 0x109d92a58>\r\n",
      "import 'abc' # <_frozen_importlib_external.SourceFileLoader object at 0x109d920f0>\r\n",
      "import 'io' # <_frozen_importlib_external.SourceFileLoader object at 0x109d8ccf8>\r\n",
      "# /anaconda3/lib/python3.6/__pycache__/site.cpython-36.pyc matches /anaconda3/lib/python3.6/site.py\r\n",
      "# code object from '/anaconda3/lib/python3.6/__pycache__/site.cpython-36.pyc'\r\n",
      "# /anaconda3/lib/python3.6/__pycache__/os.cpython-36.pyc matches /anaconda3/lib/python3.6/os.py\r\n",
      "# code object from '/anaconda3/lib/python3.6/__pycache__/os.cpython-36.pyc'\r\n",
      "import 'errno' # <class '_frozen_importlib.BuiltinImporter'>\r\n",
      "# /anaconda3/lib/python3.6/__pycache__/stat.cpython-36.pyc matches /anaconda3/lib/python3.6/stat.py\r\n",
      "# code object from '/anaconda3/lib/python3.6/__pycache__/stat.cpython-36.pyc'\r\n",
      "import '_stat' # <class '_frozen_importlib.BuiltinImporter'>\r\n",
      "import 'stat' # <_frozen_importlib_external.SourceFileLoader object at 0x109e18748>\r\n",
      "# /anaconda3/lib/python3.6/__pycache__/posixpath.cpython-36.pyc matches /anaconda3/lib/python3.6/posixpath.py\r\n",
      "# code object from '/anaconda3/lib/python3.6/__pycache__/posixpath.cpython-36.pyc'\r\n",
      "# /anaconda3/lib/python3.6/__pycache__/genericpath.cpython-36.pyc matches /anaconda3/lib/python3.6/genericpath.py\r\n",
      "# code object from '/anaconda3/lib/python3.6/__pycache__/genericpath.cpython-36.pyc'\r\n",
      "import 'genericpath' # <_frozen_importlib_external.SourceFileLoader object at 0x109e21160>\r\n",
      "import 'posixpath' # <_frozen_importlib_external.SourceFileLoader object at 0x109e18e10>\r\n",
      "# /anaconda3/lib/python3.6/__pycache__/_collections_abc.cpython-36.pyc matches /anaconda3/lib/python3.6/_collections_abc.py\r\n",
      "# code object from '/anaconda3/lib/python3.6/__pycache__/_collections_abc.cpython-36.pyc'\r\n",
      "import '_collections_abc' # <_frozen_importlib_external.SourceFileLoader object at 0x109e21780>\r\n",
      "import 'os' # <_frozen_importlib_external.SourceFileLoader object at 0x109e096a0>\r\n",
      "# /anaconda3/lib/python3.6/__pycache__/_sitebuiltins.cpython-36.pyc matches /anaconda3/lib/python3.6/_sitebuiltins.py\r\n",
      "# code object from '/anaconda3/lib/python3.6/__pycache__/_sitebuiltins.cpython-36.pyc'\r\n",
      "import '_sitebuiltins' # <_frozen_importlib_external.SourceFileLoader object at 0x109e09a90>\r\n",
      "# /anaconda3/lib/python3.6/__pycache__/sysconfig.cpython-36.pyc matches /anaconda3/lib/python3.6/sysconfig.py\r\n",
      "# code object from '/anaconda3/lib/python3.6/__pycache__/sysconfig.cpython-36.pyc'\r\n",
      "import 'sysconfig' # <_frozen_importlib_external.SourceFileLoader object at 0x109e09f98>\r\n",
      "# /anaconda3/lib/python3.6/__pycache__/_sysconfigdata_m_darwin_darwin.cpython-36.pyc matches /anaconda3/lib/python3.6/_sysconfigdata_m_darwin_darwin.py\r\n",
      "# code object from '/anaconda3/lib/python3.6/__pycache__/_sysconfigdata_m_darwin_darwin.cpython-36.pyc'\r\n",
      "import '_sysconfigdata_m_darwin_darwin' # <_frozen_importlib_external.SourceFileLoader object at 0x109e6c240>\r\n",
      "# /anaconda3/lib/python3.6/__pycache__/_osx_support.cpython-36.pyc matches /anaconda3/lib/python3.6/_osx_support.py\r\n",
      "# code object from '/anaconda3/lib/python3.6/__pycache__/_osx_support.cpython-36.pyc'\r\n",
      "# /anaconda3/lib/python3.6/__pycache__/re.cpython-36.pyc matches /anaconda3/lib/python3.6/re.py\r\n",
      "# code object from '/anaconda3/lib/python3.6/__pycache__/re.cpython-36.pyc'\r\n",
      "# /anaconda3/lib/python3.6/__pycache__/enum.cpython-36.pyc matches /anaconda3/lib/python3.6/enum.py\r\n",
      "# code object from '/anaconda3/lib/python3.6/__pycache__/enum.cpython-36.pyc'\r\n",
      "# /anaconda3/lib/python3.6/__pycache__/types.cpython-36.pyc matches /anaconda3/lib/python3.6/types.py\r\n",
      "# code object from '/anaconda3/lib/python3.6/__pycache__/types.cpython-36.pyc'\r\n",
      "# /anaconda3/lib/python3.6/__pycache__/functools.cpython-36.pyc matches /anaconda3/lib/python3.6/functools.py\r\n",
      "# code object from '/anaconda3/lib/python3.6/__pycache__/functools.cpython-36.pyc'\r\n",
      "import '_functools' # <class '_frozen_importlib.BuiltinImporter'>\r\n",
      "# /anaconda3/lib/python3.6/collections/__pycache__/__init__.cpython-36.pyc matches /anaconda3/lib/python3.6/collections/__init__.py\r\n",
      "# code object from '/anaconda3/lib/python3.6/collections/__pycache__/__init__.cpython-36.pyc'\r\n",
      "# /anaconda3/lib/python3.6/__pycache__/operator.cpython-36.pyc matches /anaconda3/lib/python3.6/operator.py\r\n",
      "# code object from '/anaconda3/lib/python3.6/__pycache__/operator.cpython-36.pyc'\r\n",
      "import '_operator' # <class '_frozen_importlib.BuiltinImporter'>\r\n",
      "import 'operator' # <_frozen_importlib_external.SourceFileLoader object at 0x109eefd68>\r\n",
      "# /anaconda3/lib/python3.6/__pycache__/keyword.cpython-36.pyc matches /anaconda3/lib/python3.6/keyword.py\r\n",
      "# code object from '/anaconda3/lib/python3.6/__pycache__/keyword.cpython-36.pyc'\r\n",
      "import 'keyword' # <_frozen_importlib_external.SourceFileLoader object at 0x109efaf98>\r\n",
      "# /anaconda3/lib/python3.6/__pycache__/heapq.cpython-36.pyc matches /anaconda3/lib/python3.6/heapq.py\r\n",
      "# code object from '/anaconda3/lib/python3.6/__pycache__/heapq.cpython-36.pyc'\r\n",
      "# extension module '_heapq' loaded from '/anaconda3/lib/python3.6/lib-dynload/_heapq.cpython-36m-darwin.so'\r\n",
      "# extension module '_heapq' executed from '/anaconda3/lib/python3.6/lib-dynload/_heapq.cpython-36m-darwin.so'\r\n",
      "import '_heapq' # <_frozen_importlib_external.ExtensionFileLoader object at 0x109efdcf8>\r\n",
      "import 'heapq' # <_frozen_importlib_external.SourceFileLoader object at 0x109efd7f0>\r\n",
      "import 'itertools' # <class '_frozen_importlib.BuiltinImporter'>\r\n",
      "# /anaconda3/lib/python3.6/__pycache__/reprlib.cpython-36.pyc matches /anaconda3/lib/python3.6/reprlib.py\r\n",
      "# code object from '/anaconda3/lib/python3.6/__pycache__/reprlib.cpython-36.pyc'\r\n",
      "import 'reprlib' # <_frozen_importlib_external.SourceFileLoader object at 0x109efddd8>\r\n",
      "import '_collections' # <class '_frozen_importlib.BuiltinImporter'>\r\n",
      "import 'collections' # <_frozen_importlib_external.SourceFileLoader object at 0x109ed04e0>\r\n",
      "# /anaconda3/lib/python3.6/__pycache__/weakref.cpython-36.pyc matches /anaconda3/lib/python3.6/weakref.py\r\n",
      "# code object from '/anaconda3/lib/python3.6/__pycache__/weakref.cpython-36.pyc'\r\n",
      "import 'weakref' # <_frozen_importlib_external.SourceFileLoader object at 0x109ed08d0>\r\n",
      "import 'functools' # <_frozen_importlib_external.SourceFileLoader object at 0x109ebcd68>\r\n",
      "# /anaconda3/lib/python3.6/collections/__pycache__/abc.cpython-36.pyc matches /anaconda3/lib/python3.6/collections/abc.py\r\n",
      "# code object from '/anaconda3/lib/python3.6/collections/__pycache__/abc.cpython-36.pyc'\r\n",
      "import 'collections.abc' # <_frozen_importlib_external.SourceFileLoader object at 0x109ec4b38>\r\n",
      "import 'types' # <_frozen_importlib_external.SourceFileLoader object at 0x109ebc080>\r\n",
      "import 'enum' # <_frozen_importlib_external.SourceFileLoader object at 0x109e86080>\r\n",
      "# /anaconda3/lib/python3.6/__pycache__/sre_compile.cpython-36.pyc matches /anaconda3/lib/python3.6/sre_compile.py\r\n",
      "# code object from '/anaconda3/lib/python3.6/__pycache__/sre_compile.cpython-36.pyc'\r\n",
      "import '_sre' # <class '_frozen_importlib.BuiltinImporter'>\r\n",
      "# /anaconda3/lib/python3.6/__pycache__/sre_parse.cpython-36.pyc matches /anaconda3/lib/python3.6/sre_parse.py\r\n",
      "# code object from '/anaconda3/lib/python3.6/__pycache__/sre_parse.cpython-36.pyc'\r\n",
      "# /anaconda3/lib/python3.6/__pycache__/sre_constants.cpython-36.pyc matches /anaconda3/lib/python3.6/sre_constants.py\r\n",
      "# code object from '/anaconda3/lib/python3.6/__pycache__/sre_constants.cpython-36.pyc'\r\n",
      "import 'sre_constants' # <_frozen_importlib_external.SourceFileLoader object at 0x109f3f0b8>\r\n",
      "import 'sre_parse' # <_frozen_importlib_external.SourceFileLoader object at 0x109f2acc0>\r\n",
      "import 'sre_compile' # <_frozen_importlib_external.SourceFileLoader object at 0x109ec4a90>\r\n",
      "import '_locale' # <class '_frozen_importlib.BuiltinImporter'>\r\n",
      "# /anaconda3/lib/python3.6/__pycache__/copyreg.cpython-36.pyc matches /anaconda3/lib/python3.6/copyreg.py\r\n",
      "# code object from '/anaconda3/lib/python3.6/__pycache__/copyreg.cpython-36.pyc'\r\n",
      "import 'copyreg' # <_frozen_importlib_external.SourceFileLoader object at 0x109f47d68>\r\n",
      "import 're' # <_frozen_importlib_external.SourceFileLoader object at 0x109e79ef0>\r\n",
      "import '_osx_support' # <_frozen_importlib_external.SourceFileLoader object at 0x109e79208>\r\n",
      "# /anaconda3/lib/python3.6/__pycache__/_bootlocale.cpython-36.pyc matches /anaconda3/lib/python3.6/_bootlocale.py\r\n",
      "# code object from '/anaconda3/lib/python3.6/__pycache__/_bootlocale.cpython-36.pyc'\r\n",
      "import '_bootlocale' # <_frozen_importlib_external.SourceFileLoader object at 0x109e80f28>\r\n",
      "# /anaconda3/lib/python3.6/importlib/__pycache__/__init__.cpython-36.pyc matches /anaconda3/lib/python3.6/importlib/__init__.py\r\n",
      "# code object from '/anaconda3/lib/python3.6/importlib/__pycache__/__init__.cpython-36.pyc'\r\n",
      "# /anaconda3/lib/python3.6/__pycache__/warnings.cpython-36.pyc matches /anaconda3/lib/python3.6/warnings.py\r\n",
      "# code object from '/anaconda3/lib/python3.6/__pycache__/warnings.cpython-36.pyc'\r\n",
      "import 'warnings' # <_frozen_importlib_external.SourceFileLoader object at 0x109f4c898>\r\n",
      "import 'importlib' # <_frozen_importlib_external.SourceFileLoader object at 0x109f4c4a8>\r\n",
      "# /anaconda3/lib/python3.6/importlib/__pycache__/util.cpython-36.pyc matches /anaconda3/lib/python3.6/importlib/util.py\r\n",
      "# code object from '/anaconda3/lib/python3.6/importlib/__pycache__/util.cpython-36.pyc'\r\n",
      "# /anaconda3/lib/python3.6/importlib/__pycache__/abc.cpython-36.pyc matches /anaconda3/lib/python3.6/importlib/abc.py\r\n",
      "# code object from '/anaconda3/lib/python3.6/importlib/__pycache__/abc.cpython-36.pyc'\r\n",
      "# /anaconda3/lib/python3.6/importlib/__pycache__/machinery.cpython-36.pyc matches /anaconda3/lib/python3.6/importlib/machinery.py\r\n",
      "# code object from '/anaconda3/lib/python3.6/importlib/__pycache__/machinery.cpython-36.pyc'\r\n",
      "import 'importlib.machinery' # <_frozen_importlib_external.SourceFileLoader object at 0x109f59f98>\r\n",
      "import 'importlib.abc' # <_frozen_importlib_external.SourceFileLoader object at 0x109f598d0>\r\n",
      "# /anaconda3/lib/python3.6/__pycache__/contextlib.cpython-36.pyc matches /anaconda3/lib/python3.6/contextlib.py\r\n",
      "# code object from '/anaconda3/lib/python3.6/__pycache__/contextlib.cpython-36.pyc'\r\n",
      "import 'contextlib' # <_frozen_importlib_external.SourceFileLoader object at 0x109f67c50>\r\n",
      "import 'importlib.util' # <_frozen_importlib_external.SourceFileLoader object at 0x109f4cef0>\r\n",
      "# possible namespace for /anaconda3/lib/python3.6/site-packages/mpl_toolkits\r\n",
      "# possible namespace for /anaconda3/lib/python3.6/site-packages/mpl_toolkits\r\n",
      "# destroy mpl_toolkits\r\n",
      "import 'site' # <_frozen_importlib_external.SourceFileLoader object at 0x109da13c8>\r\n",
      "Python 3.6.6 |Anaconda, Inc.| (default, Jun 28 2018, 11:07:29) \r\n",
      "[GCC 4.2.1 Compatible Clang 4.0.1 (tags/RELEASE_401/final)] on darwin\r\n",
      "Type \"help\", \"copyright\", \"credits\" or \"license\" for more information.\r\n",
      "# extension module 'readline' loaded from '/anaconda3/lib/python3.6/lib-dynload/readline.cpython-36m-darwin.so'\r\n",
      "# extension module 'readline' executed from '/anaconda3/lib/python3.6/lib-dynload/readline.cpython-36m-darwin.so'\r\n",
      "import 'readline' # <_frozen_importlib_external.ExtensionFileLoader object at 0x109f4c278>\r\n",
      "import 'atexit' # <class '_frozen_importlib.BuiltinImporter'>\r\n",
      "# /anaconda3/lib/python3.6/__pycache__/rlcompleter.cpython-36.pyc matches /anaconda3/lib/python3.6/rlcompleter.py\r\n",
      "# code object from '/anaconda3/lib/python3.6/__pycache__/rlcompleter.cpython-36.pyc'\r\n",
      "import 'rlcompleter' # <_frozen_importlib_external.SourceFileLoader object at 0x10a38f668>\r\n"
     ]
    },
    {
     "name": "stdout",
     "output_type": "stream",
     "text": [
      ">>> "
     ]
    }
   ],
   "source": [
    "!python -v"
   ]
  },
  {
   "cell_type": "code",
   "execution_count": null,
   "metadata": {},
   "outputs": [],
   "source": []
  }
 ],
 "metadata": {
  "kernelspec": {
   "display_name": "susy27",
   "language": "python",
   "name": "susy27"
  },
  "language_info": {
   "codemirror_mode": {
    "name": "ipython",
    "version": 3
   },
   "file_extension": ".py",
   "mimetype": "text/x-python",
   "name": "python",
   "nbconvert_exporter": "python",
   "pygments_lexer": "ipython3",
   "version": "3.6.6"
  }
 },
 "nbformat": 4,
 "nbformat_minor": 2
}

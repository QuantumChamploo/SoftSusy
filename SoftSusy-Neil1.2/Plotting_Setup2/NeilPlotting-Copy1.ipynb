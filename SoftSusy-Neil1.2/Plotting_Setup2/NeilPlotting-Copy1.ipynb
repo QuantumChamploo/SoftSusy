{
 "cells": [
  {
   "cell_type": "code",
   "execution_count": 27,
   "metadata": {},
   "outputs": [
    {
     "name": "stdout",
     "output_type": "stream",
     "text": [
      "hello\n"
     ]
    }
   ],
   "source": [
    "import pyslha #For interacting with SLHA files\n",
    "import subprocess #Running command\n",
    "import scipy #Numeric Library\n",
    "import sympy #symbolic computation - might not be used here\n",
    "from scipy import optimize\n",
    "from sympy import *\n",
    "import matplotlib.pyplot as plt\n",
    "from matplotlib.ticker import FuncFormatter\n",
    "import numpy as np\n",
    "%matplotlib inline\n",
    "from numpy import logspace, linspace \n",
    "from itertools import product\n",
    "import glob #filehandling\n",
    "from subprocess import call\n",
    "import os\n",
    "#Path to modified verison of Softsusy \n",
    "SoftSUSY_PATH = 'softsusy-4.1.4-Garon/softpoint.x' \n",
    "mHiggs = 125 #Higgs Mass for paper\n",
    "print (\"hello\")"
   ]
  },
  {
   "cell_type": "code",
   "execution_count": 28,
   "metadata": {},
   "outputs": [
    {
     "name": "stdout",
     "output_type": "stream",
     "text": [
      "/Users/glyph/Downloads/SoftSusy-master/Plotting_Setup2\n"
     ]
    }
   ],
   "source": [
    "import os\n",
    "current_path = os.getcwd()\n",
    "print(current_path)"
   ]
  },
  {
   "cell_type": "code",
   "execution_count": 29,
   "metadata": {},
   "outputs": [],
   "source": [
    "def slhaPoint(model='FGMCaseB0', mMess=1e12, tanBeta=10, beta2=0, beta3=0, betaeps=.01, thetavev=0, \n",
    "              outputFile='test.slha', Lambda=1e6, mode='Point', LambdaGuess=6e5,particle=25):\n",
    "    '''\n",
    "    Code for interacting with SoftSUSY and running the models we've been looking at.\n",
    "    The models themselves are encoded in a modified version of it. \n",
    "    This may seem like extra work because it accepts an arbitrary SLHA2 file, but since our models\n",
    "    include fitted parameters, like the Yukawa couplings, we need to use the values that it calculates\n",
    "    during the running. \n",
    "    The parameters:\n",
    "    model - the name of the model in SoftSUSY\n",
    "    mMess - the messenger scale\n",
    "    tanBeta - tan beta\n",
    "    beta2 - beta2\n",
    "    beta3 - beta3\n",
    "    outputFile - the name of the file to write to (this step could conceivably be removed by writing the console output to memory)\n",
    "    Lambda - F/M\n",
    "    mode - There are 3 modes\n",
    "        'Fit' - uses Newton's method from a few different starting points\n",
    "        'Bisect' - uses a Bisection routine from a few different brackets\n",
    "        'Point' - runs a single point\n",
    "    LambdaGuess - a guess at the value of Lambda for the 'Fit' mode.\n",
    "    particle - the pdg code for the particle that we are interested in getting data for\n",
    "    \n",
    "    note that current implementation, fit and bisect only work for higgs, could fix, but it could only really work for\n",
    "    particles with known values\n",
    "    '''\n",
    "    \n",
    "    dataline =\"./{} {} --mMess={} --LAMBDA={} --tanBeta={} --beta2={} --beta3={} --thetavev={} --betaeps={} --cgrav=1. > {}\"\n",
    "    startingPoints = [LambdaGuess, 1e6, 5e6, 6e4]\n",
    "    bracket, l = [(2,5), (5,10), (2,10), (2,8), (4,8), (1,3), (8,12)], 0\n",
    "    \n",
    "    #a helper functin that takes a value of x (Lambda), runs it (line 2) and then reads in the Higgs mass\n",
    "    def f(x):\n",
    "        string = dataline.format(SoftSUSY_PATH, model, str(mMess), str(x), \n",
    "                                 str(tanBeta), str(beta2), str(beta3), str(thetavev), str(betaeps), outputFile)\n",
    "        subprocess.Popen(string, stdout=None, shell=True).wait()\n",
    "        print (\"the string is \")\n",
    "        print (string)\n",
    "        return pyslha.read(outputFile).blocks['MASS'][particle]\n",
    "    \n",
    "    if mode == 'Fit':\n",
    "        #print ('in fit')\n",
    "        a, i = 0, 0\n",
    "        while((a <= 0) & (i < len(startingPoints))):\n",
    "            try:\n",
    "                #Newton's method\n",
    "                print (\"in try\")\n",
    "                a = optimize.newton(f, startingPoints[i], tol=1e-4)\n",
    "                print (\"in newton\")\n",
    "                print (a)\n",
    "            except:\n",
    "                print ('got excepted')\n",
    "                a = 0\n",
    "                i += 1\n",
    "        if (a>0):\n",
    "            data = pyslha.read(outputFile)\n",
    "            #accept or reject based on the deviation from the Higgs mass\n",
    "            if (-0.1 < data.blocks['MASS'][25]-125 < 0.1) :\n",
    "                try:\n",
    "                    #if there's something in this location SoftSUSY has an error.\n",
    "                    data.blocks['SPINFO'][3]\n",
    "                except:\n",
    "                    return data\n",
    "    elif mode == 'Bisect':\n",
    "        for k in bracket:\n",
    "            print(k)\n",
    "            try:\n",
    "                l = optimize.brentq(f, k[0] * 1e5, k[1] * 1e5, rtol=1e-4)\n",
    "                if l:\n",
    "                    break\n",
    "            except:\n",
    "                #print('nada')\n",
    "                continue\n",
    "        if l:\n",
    "            data = pyslha.read(outputFile)\n",
    "            print(data.blocks['MASS'][25])\n",
    "            if (-0.25 < data.blocks['MASS'][25]-125 < 0.25) :\n",
    "                try:\n",
    "                    data.blocks['SPINFO'][3]\n",
    "                except:\n",
    "                    return data\n",
    "            else:\n",
    "                #the bisection routine tends to get things close but not exact, so it calls 'Fit' if it's close.\n",
    "                return slhaPoint(model, mMess, tanBeta, beta2, beta3,\\\n",
    "                              outputFile, Lambda, 'Fit', LambdaGuess=data.blocks['MINPAR'][1])\n",
    "        else:\n",
    "            #just to be safe (but is probably unneded)\n",
    "            return slhaPoint(model, mMess, tanBeta, beta2, beta3,\\\n",
    "                              outputFile, Lambda, 'Fit')\n",
    "    else:\n",
    "        #runs a single point\n",
    "        try:\n",
    "            f(Lambda)\n",
    "            data = pyslha.read(outputFile)\n",
    "            return data.blocks['MASS'][particle], data\n",
    "        except (pyslha.ParseError, RuntimeError):\n",
    "            return \"No Solution\", 0"
   ]
  },
  {
   "cell_type": "code",
   "execution_count": 30,
   "metadata": {},
   "outputs": [
    {
     "name": "stdout",
     "output_type": "stream",
     "text": [
      "the string is \n",
      "./softsusy-4.1.4-Garon/softpoint.x FGMCaseB1 --mMess=1000000000000.0 --LAMBDA=1000000.0 --tanBeta=10 --beta2=10 --beta3=10 --thetavev=0 --betaeps=0.01 --cgrav=1. > test5.slha\n"
     ]
    },
    {
     "name": "stderr",
     "output_type": "stream",
     "text": [
      "Ignoring unknown section type: in\n",
      "Ignoring unknown section type: in\n"
     ]
    }
   ],
   "source": [
    "gd = slhaPoint(model='FGMCaseB1',outputFile=\"test5.slha\",particle=2000015,beta2=10,beta3=10)"
   ]
  },
  {
   "cell_type": "code",
   "execution_count": 31,
   "metadata": {},
   "outputs": [
    {
     "data": {
      "text/plain": [
       "126.824309"
      ]
     },
     "execution_count": 31,
     "metadata": {},
     "output_type": "execute_result"
    }
   ],
   "source": [
    "gd[1].blocks['MASS'][25]"
   ]
  },
  {
   "cell_type": "code",
   "execution_count": 1,
   "metadata": {},
   "outputs": [
    {
     "ename": "NameError",
     "evalue": "name 'logspace' is not defined",
     "output_type": "error",
     "traceback": [
      "\u001b[0;31m---------------------------------------------------------------------------\u001b[0m",
      "\u001b[0;31mNameError\u001b[0m                                 Traceback (most recent call last)",
      "\u001b[0;32m<ipython-input-1-f404e9cd3b2d>\u001b[0m in \u001b[0;36m<module>\u001b[0;34m\u001b[0m\n\u001b[0;32m----> 1\u001b[0;31m \u001b[0mgridBeta2\u001b[0m \u001b[0;34m=\u001b[0m \u001b[0mlogspace\u001b[0m\u001b[0;34m(\u001b[0m\u001b[0;36m0.0\u001b[0m\u001b[0;34m,\u001b[0m\u001b[0;36m2.0\u001b[0m\u001b[0;34m,\u001b[0m\u001b[0;36m41\u001b[0m\u001b[0;34m)\u001b[0m\u001b[0;34m\u001b[0m\u001b[0m\n\u001b[0m\u001b[1;32m      2\u001b[0m \u001b[0mgridBeta3\u001b[0m \u001b[0;34m=\u001b[0m \u001b[0mlogspace\u001b[0m\u001b[0;34m(\u001b[0m\u001b[0;36m0.0\u001b[0m\u001b[0;34m,\u001b[0m\u001b[0;36m2.0\u001b[0m\u001b[0;34m,\u001b[0m\u001b[0;36m41\u001b[0m\u001b[0;34m)\u001b[0m\u001b[0;34m\u001b[0m\u001b[0m\n\u001b[1;32m      3\u001b[0m \u001b[0;34m\u001b[0m\u001b[0m\n\u001b[1;32m      4\u001b[0m \u001b[0mresultsFGMCaseB1\u001b[0m \u001b[0;34m=\u001b[0m \u001b[0;34m{\u001b[0m\u001b[0;34m}\u001b[0m\u001b[0;34m\u001b[0m\u001b[0m\n\u001b[1;32m      5\u001b[0m \u001b[0mk\u001b[0m \u001b[0;34m=\u001b[0m \u001b[0;36m0\u001b[0m\u001b[0;34m\u001b[0m\u001b[0m\n",
      "\u001b[0;31mNameError\u001b[0m: name 'logspace' is not defined"
     ]
    }
   ],
   "source": [
    "gridBeta2 = logspace(0.0,2.0,41)\n",
    "gridBeta3 = logspace(0.0,2.0,41)\n",
    "\n",
    "resultsFGMCaseB1 = {}\n",
    "k = 0\n",
    "for j in product(gridBeta2, gridBeta3):\n",
    "    k+=1\n",
    "    print(k)\n",
    "    resultsFGMCaseB1[j] = slhaPoint(model='FGMCaseB1',beta2= j[0], beta3= j[1])\n",
    "print(\"done\")    "
   ]
  },
  {
   "cell_type": "code",
   "execution_count": 2,
   "metadata": {},
   "outputs": [
    {
     "ename": "NameError",
     "evalue": "name 'resultsFGMCaseB1' is not defined",
     "output_type": "error",
     "traceback": [
      "\u001b[0;31m---------------------------------------------------------------------------\u001b[0m",
      "\u001b[0;31mNameError\u001b[0m                                 Traceback (most recent call last)",
      "\u001b[0;32m<ipython-input-2-defbd2a173a3>\u001b[0m in \u001b[0;36m<module>\u001b[0;34m\u001b[0m\n\u001b[0;32m----> 1\u001b[0;31m \u001b[0mfile\u001b[0m \u001b[0;34m=\u001b[0m \u001b[0mresultsFGMCaseB1\u001b[0m\u001b[0;34m\u001b[0m\u001b[0m\n\u001b[0m\u001b[1;32m      2\u001b[0m \u001b[0mplotData\u001b[0m\u001b[0;34m,\u001b[0m \u001b[0mplotData2\u001b[0m\u001b[0;34m,\u001b[0m \u001b[0mplotData3\u001b[0m \u001b[0;34m=\u001b[0m \u001b[0;34m[\u001b[0m\u001b[0;34m]\u001b[0m\u001b[0;34m,\u001b[0m \u001b[0;34m[\u001b[0m\u001b[0;34m]\u001b[0m\u001b[0;34m,\u001b[0m \u001b[0;34m[\u001b[0m\u001b[0;34m]\u001b[0m\u001b[0;34m\u001b[0m\u001b[0m\n\u001b[1;32m      3\u001b[0m \u001b[0;32mfor\u001b[0m \u001b[0mi\u001b[0m \u001b[0;32min\u001b[0m \u001b[0mgridBeta2\u001b[0m\u001b[0;34m:\u001b[0m\u001b[0;34m\u001b[0m\u001b[0m\n\u001b[1;32m      4\u001b[0m     \u001b[0mrow\u001b[0m\u001b[0;34m,\u001b[0m \u001b[0mrow2\u001b[0m\u001b[0;34m,\u001b[0m \u001b[0mrow3\u001b[0m \u001b[0;34m=\u001b[0m \u001b[0;34m[\u001b[0m\u001b[0;34m]\u001b[0m\u001b[0;34m,\u001b[0m \u001b[0;34m[\u001b[0m\u001b[0;34m]\u001b[0m\u001b[0;34m,\u001b[0m \u001b[0;34m[\u001b[0m\u001b[0;34m]\u001b[0m\u001b[0;34m\u001b[0m\u001b[0m\n\u001b[1;32m      5\u001b[0m     \u001b[0;32mfor\u001b[0m \u001b[0mj\u001b[0m \u001b[0;32min\u001b[0m \u001b[0mgridBeta3\u001b[0m\u001b[0;34m:\u001b[0m\u001b[0;34m\u001b[0m\u001b[0m\n",
      "\u001b[0;31mNameError\u001b[0m: name 'resultsFGMCaseB1' is not defined"
     ]
    }
   ],
   "source": [
    "file = resultsFGMCaseB1\n",
    "plotData, plotData2, plotData3 = [], [], []\n",
    "for i in gridBeta2:\n",
    "    row, row2, row3 = [], [], []\n",
    "    for j in gridBeta3:\n",
    "        try:\n",
    "            row.append(file[(j,i)][1].blocks['MASS'][25])\n",
    "            row2.append(file[(j,i)][1].blocks['MASS'][2000002])\n",
    "            row3.append(file[(j,i)][1].blocks['MASS'][2000011])\n",
    "            #row.append(resultsB1mMessLambda40[(j,i)][1].blocks['MINPAR'][1])\n",
    "        except:\n",
    "            row.append(0)\n",
    "            row2.append(0)\n",
    "            row3.append(0)\n",
    "            #print((j,i))\n",
    "    plotData.append(row)\n",
    "    plotData2.append(row2)\n",
    "    plotData3.append(row3)\n",
    "plotData = np.array(plotData)\n",
    "plotData2 = np.array(plotData2)\n",
    "plotData3 = np.array(plotData3)\n",
    "print(\"plotData is\")\n",
    "#print(plotData)\n",
    "\n",
    "Zm = np.ma.masked_where(plotData < 1.2, plotData)\n",
    "Zn = np.ma.masked_where(plotData2 < 1.2, plotData2)\n",
    "Zo = np.ma.masked_where(plotData3 < 1.2, plotData3)\n",
    "print(\"zm, then zn, then z0\")\n",
    "print(Zm)\n",
    "print(\"zn\")\n",
    "print(Zn)\n",
    "print('z0')\n",
    "print(Zo)\n",
    "\n",
    "fig, ax = plt.subplots( figsize=(8, 6.4))\n",
    "\n",
    "im = ax.contourf(np.log10(gridBeta3), np.log10(gridBeta2), Zo,50)\n",
    "plt.xlabel(r'$\\log_{10}\\, M_{\\rm{Beta3}}$',fontsize=16)\n",
    "plt.ylabel(r'$\\log_{10}\\,M_{\\rm{Beta2}}$',fontsize=16)\n",
    "cbar = fig.colorbar(im)\n",
    "cbar.set_label(r'$m_{\\tilde C_{R}}$ [GeV]', size=12)\n",
    "cs = ax.contour(np.log10(gridBeta3), np.log10(gridBeta2), Zm, [124,125,126,127,128],colors='k',linestyles='dotted')\n",
    "ax.clabel(cs, fontsize=16, inline=1, colors='w',fmt=\"%1.2f\")\n",
    "#cs = ax.contour(np.log10(gridBeta3), np.log10(gridBeta2), Zn, [12000,12100,12200,12300],colors='k',linestyles='dotted')\n",
    "#ax.clabel(cs, fontsize=16, inline=1, colors='w',fmt=\"%1.1f\")\n",
    "#cs = ax.contour(np.log10(gridBeta3), np.log10(gridBeta2), Zo, [4600],colors='k',linestyles='dotted')\n",
    "#ax.clabel(cs, fontsize=16, inline=1, colors='w',fmt=\"%1.f\")\n",
    "plt.title(\"2000011 Mass Spectrum\")\n",
    "plt.savefig(\"b3b2eR.pdf\")\n"
   ]
  },
  {
   "cell_type": "code",
   "execution_count": null,
   "metadata": {},
   "outputs": [],
   "source": []
  },
  {
   "cell_type": "code",
   "execution_count": null,
   "metadata": {},
   "outputs": [],
   "source": []
  }
 ],
 "metadata": {
  "kernelspec": {
   "display_name": "lisa",
   "language": "python",
   "name": "lisa"
  },
  "language_info": {
   "codemirror_mode": {
    "name": "ipython",
    "version": 3
   },
   "file_extension": ".py",
   "mimetype": "text/x-python",
   "name": "python",
   "nbconvert_exporter": "python",
   "pygments_lexer": "ipython3",
   "version": "3.6.5"
  }
 },
 "nbformat": 4,
 "nbformat_minor": 2
}

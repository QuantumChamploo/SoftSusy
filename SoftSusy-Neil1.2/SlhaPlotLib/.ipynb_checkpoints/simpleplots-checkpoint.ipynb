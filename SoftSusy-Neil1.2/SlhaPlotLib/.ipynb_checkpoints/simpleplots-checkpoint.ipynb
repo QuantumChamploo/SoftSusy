{
 "cells": [
  {
   "cell_type": "code",
   "execution_count": null,
   "metadata": {},
   "outputs": [],
   "source": [
    "import matplotlib.pyplot as plt\n",
    "import numpy as np\n"
   ]
  },
  {
   "cell_type": "code",
   "execution_count": 21,
   "metadata": {},
   "outputs": [],
   "source": [
    "values = [{\"h0\":50, \"H0\":3300, \"A0\":3300, \"H+-\":3300},\n",
    "          {\"lR\":1420,\"t1\":1410,\"vT\":2500, \"vL\":2500,\"lL\":2500,\"T2\":2500,},\n",
    "         ]\n",
    "x = []\n",
    "y = []\n",
    "n = []\n"
   ]
  },
  {
   "cell_type": "code",
   "execution_count": 13,
   "metadata": {},
   "outputs": [
    {
     "name": "stdout",
     "output_type": "stream",
     "text": [
      "{'h0': 50, 'H0': 3300, 'A0': 3300, 'H+-': 3300}\n"
     ]
    }
   ],
   "source": [
    "print (values[0])"
   ]
  },
  {
   "cell_type": "code",
   "execution_count": 27,
   "metadata": {},
   "outputs": [
    {
     "name": "stderr",
     "output_type": "stream",
     "text": [
      "/anaconda3/lib/python3.6/site-packages/ipykernel_launcher.py:15: MatplotlibDeprecationWarning: Adding an axes using the same arguments as a previous axes currently reuses the earlier instance.  In a future version, a new instance will always be created and returned.  Meanwhile, this warning can be suppressed, and the future behavior ensured, by passing a unique label to each axes instance.\n",
      "  from ipykernel import kernelapp as app\n"
     ]
    },
    {
     "data": {
      "text/plain": [
       "[Text(0, 0, 'higgs'), Text(0, 0, 'sleptons')]"
      ]
     },
     "execution_count": 27,
     "metadata": {},
     "output_type": "execute_result"
    },
    {
     "data": {
      "image/png": "[encoded data removed]",
      "text/plain": [
       "<Figure size 432x288 with 1 Axes>"
      ]
     },
     "metadata": {},
     "output_type": "display_data"
    }
   ],
   "source": [
    "for i in range(len(values)):\n",
    "    for k in values[i].keys():\n",
    "        x.append(i)\n",
    "        y.append(values[i][k])\n",
    "        n.append(k)\n",
    "        #plt.scatter(i,values[i][k])\n",
    "        \n",
    "\n",
    "plt.scatter(x,y)\n",
    "\n",
    "for i, txt in enumerate(n):\n",
    "    plt.annotate(txt, (x[i], y[i]))\n",
    "    \n",
    "plt.xticks([0, 1])\n",
    "plt.axes().set_xticklabels(['higgs', 'sleptons'])\n"
   ]
  },
  {
   "cell_type": "code",
   "execution_count": 16,
   "metadata": {},
   "outputs": [],
   "source": []
  },
  {
   "cell_type": "code",
   "execution_count": null,
   "metadata": {},
   "outputs": [],
   "source": []
  }
 ],
 "metadata": {
  "kernelspec": {
   "display_name": "lisa",
   "language": "python",
   "name": "lisa"
  },
  "language_info": {
   "codemirror_mode": {
    "name": "ipython",
    "version": 3
   },
   "file_extension": ".py",
   "mimetype": "text/x-python",
   "name": "python",
   "nbconvert_exporter": "python",
   "pygments_lexer": "ipython3",
   "version": "3.6.6"
  }
 },
 "nbformat": 4,
 "nbformat_minor": 2
}

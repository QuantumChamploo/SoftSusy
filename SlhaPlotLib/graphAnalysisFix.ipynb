{
 "cells": [
  {
   "cell_type": "code",
   "execution_count": 1,
   "metadata": {},
   "outputs": [],
   "source": [
    "\n",
    "%matplotlib inline\n",
    "from ipywidgets import interactive\n",
    "import matplotlib.pyplot as plt\n",
    "import numpy as np\n",
    "from IPython.display import Image, display\n",
    "import ipywidgets as widgets"
   ]
  },
  {
   "cell_type": "code",
   "execution_count": 2,
   "metadata": {},
   "outputs": [],
   "source": [
    "def f(mMess, TanBeta):\n",
    "    print('mMess is' + str(mMess))\n",
    "    string_hld = \"plot\"\n",
    "    mHld = str(int((mMess - 4)/2))\n",
    "    if(TanBeta < 7.5):\n",
    "        tanb_hld = 1\n",
    "    elif(TanBeta<15):\n",
    "        tanb_hld = 2\n",
    "    else:\n",
    "        tanb_hld = 3\n",
    "    string_hld += mHld\n",
    "    string_hld += \".\"\n",
    "    string_hld += str(tanb_hld)\n",
    "    string_hld += \".png\"\n",
    "    try:\n",
    "        display(Image(filename='../pics/'+string_hld))\n",
    "    except:\n",
    "        print(\"error\")"
   ]
  },
  {
   "cell_type": "code",
   "execution_count": 3,
   "metadata": {},
   "outputs": [],
   "source": [
    "interactive_plot = interactive(f, mMess=widgets.IntSlider(min=6,max=14,step=2,value=8), TanBeta=(5, 20))"
   ]
  },
  {
   "cell_type": "code",
   "execution_count": 4,
   "metadata": {},
   "outputs": [
    {
     "data": {
      "application/vnd.jupyter.widget-view+json": {
       "model_id": "1e6876d2e4d0436da96c90e5979526b9",
       "version_major": 2,
       "version_minor": 0
      },
      "text/plain": [
       "interactive(children=(IntSlider(value=8, description='mMess', max=14, min=6, step=2), IntSlider(value=12, desc…"
      ]
     },
     "metadata": {},
     "output_type": "display_data"
    }
   ],
   "source": [
    "output = interactive_plot.children[-1]\n",
    "output.layout.height = '550px'\n",
    "interactive_plot"
   ]
  },
  {
   "cell_type": "code",
   "execution_count": null,
   "metadata": {},
   "outputs": [],
   "source": []
  }
 ],
 "metadata": {
  "kernelspec": {
   "display_name": "Python 3",
   "language": "python",
   "name": "python3"
  },
  "language_info": {
   "codemirror_mode": {
    "name": "ipython",
    "version": 3
   },
   "file_extension": ".py",
   "mimetype": "text/x-python",
   "name": "python",
   "nbconvert_exporter": "python",
   "pygments_lexer": "ipython3",
   "version": "3.6.6"
  }
 },
 "nbformat": 4,
 "nbformat_minor": 2
}

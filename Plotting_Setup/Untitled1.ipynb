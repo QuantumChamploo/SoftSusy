{
 "cells": [
  {
   "cell_type": "code",
   "execution_count": 1,
   "metadata": {},
   "outputs": [
    {
     "name": "stdout",
     "output_type": "stream",
     "text": [
      "hello\n"
     ]
    }
   ],
   "source": [
    "import pyslha #For interacting with SLHA files\n",
    "import subprocess #Running command\n",
    "import scipy #Numeric Library\n",
    "import sympy #symbolic computation - might not be used here\n",
    "from scipy import optimize\n",
    "from sympy import *\n",
    "import matplotlib.pyplot as plt\n",
    "from matplotlib.ticker import FuncFormatter\n",
    "import numpy as np\n",
    "%matplotlib inline\n",
    "from numpy import logspace, linspace \n",
    "from itertools import product\n",
    "import glob #filehandling\n",
    "from subprocess import call\n",
    "import os\n",
    "#Path to modified verison of Softsusy \n",
    "SoftSUSY_PATH = 'softsusy-4.1.4-Garon/softpoint.x' \n",
    "mHiggs = 125 #Higgs Mass for paper\n",
    "print (\"hello\")"
   ]
  },
  {
   "cell_type": "code",
   "execution_count": 10,
   "metadata": {},
   "outputs": [],
   "source": [
    "def slhaPoint(model='FGMCaseB0', mMess=1e12, tanBeta=10, beta2=0, beta3=0, betaeps=0.0, thetavev=0, \n",
    "              outputFile='test.slha', Lambda=1e6, mode='point', LambdaGuess=6e5):\n",
    "    '''\n",
    "    Code for interacting with SoftSUSY and running the models we've been looking at.\n",
    "    The models themselves are encoded in a modified version of it. \n",
    "    This may seem like extra work because it accepts an arbitrary SLHA2 file, but since our models\n",
    "    include fitted parameters, like the Yukawa couplings, we need to use the values that it calculates\n",
    "    during the running. \n",
    "    The parameters:\n",
    "    model - the name of the model in SoftSUSY\n",
    "    mMess - the messenger scale\n",
    "    tanBeta - tan beta\n",
    "    beta2 - beta2\n",
    "    beta3 - beta3\n",
    "    outputFile - the name of the file to write to (this step could conceivably be removed by writing the console output to memory)\n",
    "    Lambda - F/M\n",
    "    mode - There are 3 modes\n",
    "        'Fit' - uses Newton's method from a few different starting points\n",
    "        'Bisect' - uses a Bisection routine from a few different brackets\n",
    "        'Point' - runs a single point\n",
    "    LambdaGuess - a guess at the value of Lambda for the 'Fit' mode.\n",
    "    '''\n",
    "    \n",
    "    dataline =\"./{} {} --mMess={} --LAMBDA={} --tanBeta={} --beta2={} --beta3={} --thetavev={} --betaeps={} --cgrav=1. > {}\"\n",
    "    startingPoints = [LambdaGuess, 1e6, 5e6, 6e4]\n",
    "    bracket, l = [(2,5), (5,10), (2,10), (2,8), (4,8), (1,3), (8,12)], 0\n",
    "    \n",
    "    #a helper functin that takes a value of x (Lambda), runs it (line 2) and then reads in the Higgs mass\n",
    "    def f(x):\n",
    "        string = dataline.format(SoftSUSY_PATH, model, str(mMess), str(x), \n",
    "                                 str(tanBeta), str(beta2), str(beta3), str(thetavev), str(betaeps), outputFile)\n",
    "        subprocess.Popen(string, stdout=None, shell=True).wait()\n",
    "        #print (\"the string is \")\n",
    "        print (string)\n",
    "        return pyslha.read(outputFile).blocks['MASS'][25] - mHiggs\n",
    "    \n",
    "    if mode == 'Fit':\n",
    "        #print ('in fit')\n",
    "        a, i = 0, 0\n",
    "        while((a <= 0) & (i < len(startingPoints))):\n",
    "            try:\n",
    "                #Newton's method\n",
    "                print (\"in try\")\n",
    "                a = optimize.newton(f, startingPoints[i], tol=1e-4)\n",
    "                print (\"in newton\")\n",
    "                print (a)\n",
    "            except:\n",
    "                print ('got excepted')\n",
    "                a = 0\n",
    "                i += 1\n",
    "        if (a>0):\n",
    "            data = pyslha.read(outputFile)\n",
    "            #accept or reject based on the deviation from the Higgs mass\n",
    "            if (-0.1 < data.blocks['MASS'][25]-125 < 0.1) :\n",
    "                try:\n",
    "                    #if there's something in this location SoftSUSY has an error.\n",
    "                    data.blocks['SPINFO'][3]\n",
    "                except:\n",
    "                    return data\n",
    "    elif mode == 'Bisect':\n",
    "        for k in bracket:\n",
    "            print(k)\n",
    "            try:\n",
    "                l = optimize.brentq(f, k[0] * 1e5, k[1] * 1e5, rtol=1e-4)\n",
    "                if l:\n",
    "                    break\n",
    "            except:\n",
    "                #print('nada')\n",
    "                continue\n",
    "        if l:\n",
    "            data = pyslha.read(outputFile)\n",
    "            print(data.blocks['MASS'][25])\n",
    "            if (-0.25 < data.blocks['MASS'][25]-125 < 0.25) :\n",
    "                try:\n",
    "                    data.blocks['SPINFO'][3]\n",
    "                except:\n",
    "                    return data\n",
    "            else:\n",
    "                #the bisection routine tends to get things close but not exact, so it calls 'Fit' if it's close.\n",
    "                return slhaPoint(model, mMess, tanBeta, beta2, beta3,\\\n",
    "                              outputFile, Lambda, 'Fit', LambdaGuess=data.blocks['MINPAR'][1])\n",
    "        else:\n",
    "            #just to be safe (but is probably unneded)\n",
    "            return slhaPoint(model, mMess, tanBeta, beta2, beta3,\\\n",
    "                              outputFile, Lambda, 'Fit')\n",
    "    else:\n",
    "        #runs a single point\n",
    "        try:\n",
    "            f(Lambda)\n",
    "            data = pyslha.read(outputFile)\n",
    "            return data.blocks['MASS'][25], data\n",
    "        except (pyslha.ParseError, RuntimeError):\n",
    "            return \"No Solution\", 0"
   ]
  },
  {
   "cell_type": "code",
   "execution_count": 11,
   "metadata": {},
   "outputs": [
    {
     "name": "stdout",
     "output_type": "stream",
     "text": [
      "./softsusy-4.1.4-Garon/softpoint.x FGMCaseB2 --mMess=1000000.0 --LAMBDA=1000000.0 --tanBeta=10 --beta2=0 --beta3=0 --thetavev=0 --betaeps=0.0 --cgrav=1. > test.slha\n",
      "./softsusy-4.1.4-Garon/softpoint.x FGMCaseB2 --mMess=1778279.410038923 --LAMBDA=1000000.0 --tanBeta=10 --beta2=0 --beta3=0 --thetavev=0 --betaeps=0.0 --cgrav=1. > test.slha\n",
      "./softsusy-4.1.4-Garon/softpoint.x FGMCaseB2 --mMess=3162277.6601683795 --LAMBDA=1000000.0 --tanBeta=10 --beta2=0 --beta3=0 --thetavev=0 --betaeps=0.0 --cgrav=1. > test.slha\n",
      "./softsusy-4.1.4-Garon/softpoint.x FGMCaseB2 --mMess=5623413.251903491 --LAMBDA=1000000.0 --tanBeta=10 --beta2=0 --beta3=0 --thetavev=0 --betaeps=0.0 --cgrav=1. > test.slha\n",
      "./softsusy-4.1.4-Garon/softpoint.x FGMCaseB2 --mMess=10000000.0 --LAMBDA=1000000.0 --tanBeta=10 --beta2=0 --beta3=0 --thetavev=0 --betaeps=0.0 --cgrav=1. > test.slha\n",
      "./softsusy-4.1.4-Garon/softpoint.x FGMCaseB2 --mMess=17782794.100389227 --LAMBDA=1000000.0 --tanBeta=10 --beta2=0 --beta3=0 --thetavev=0 --betaeps=0.0 --cgrav=1. > test.slha\n",
      "./softsusy-4.1.4-Garon/softpoint.x FGMCaseB2 --mMess=31622776.60168379 --LAMBDA=1000000.0 --tanBeta=10 --beta2=0 --beta3=0 --thetavev=0 --betaeps=0.0 --cgrav=1. > test.slha\n",
      "./softsusy-4.1.4-Garon/softpoint.x FGMCaseB2 --mMess=56234132.51903491 --LAMBDA=1000000.0 --tanBeta=10 --beta2=0 --beta3=0 --thetavev=0 --betaeps=0.0 --cgrav=1. > test.slha\n",
      "./softsusy-4.1.4-Garon/softpoint.x FGMCaseB2 --mMess=100000000.0 --LAMBDA=1000000.0 --tanBeta=10 --beta2=0 --beta3=0 --thetavev=0 --betaeps=0.0 --cgrav=1. > test.slha\n",
      "./softsusy-4.1.4-Garon/softpoint.x FGMCaseB2 --mMess=177827941.00389227 --LAMBDA=1000000.0 --tanBeta=10 --beta2=0 --beta3=0 --thetavev=0 --betaeps=0.0 --cgrav=1. > test.slha\n",
      "./softsusy-4.1.4-Garon/softpoint.x FGMCaseB2 --mMess=316227766.01683795 --LAMBDA=1000000.0 --tanBeta=10 --beta2=0 --beta3=0 --thetavev=0 --betaeps=0.0 --cgrav=1. > test.slha\n",
      "./softsusy-4.1.4-Garon/softpoint.x FGMCaseB2 --mMess=562341325.1903491 --LAMBDA=1000000.0 --tanBeta=10 --beta2=0 --beta3=0 --thetavev=0 --betaeps=0.0 --cgrav=1. > test.slha\n",
      "./softsusy-4.1.4-Garon/softpoint.x FGMCaseB2 --mMess=1000000000.0 --LAMBDA=1000000.0 --tanBeta=10 --beta2=0 --beta3=0 --thetavev=0 --betaeps=0.0 --cgrav=1. > test.slha\n",
      "./softsusy-4.1.4-Garon/softpoint.x FGMCaseB2 --mMess=1778279410.0389228 --LAMBDA=1000000.0 --tanBeta=10 --beta2=0 --beta3=0 --thetavev=0 --betaeps=0.0 --cgrav=1. > test.slha\n",
      "./softsusy-4.1.4-Garon/softpoint.x FGMCaseB2 --mMess=3162277660.1683793 --LAMBDA=1000000.0 --tanBeta=10 --beta2=0 --beta3=0 --thetavev=0 --betaeps=0.0 --cgrav=1. > test.slha\n",
      "./softsusy-4.1.4-Garon/softpoint.x FGMCaseB2 --mMess=5623413251.903491 --LAMBDA=1000000.0 --tanBeta=10 --beta2=0 --beta3=0 --thetavev=0 --betaeps=0.0 --cgrav=1. > test.slha\n",
      "./softsusy-4.1.4-Garon/softpoint.x FGMCaseB2 --mMess=10000000000.0 --LAMBDA=1000000.0 --tanBeta=10 --beta2=0 --beta3=0 --thetavev=0 --betaeps=0.0 --cgrav=1. > test.slha\n",
      "./softsusy-4.1.4-Garon/softpoint.x FGMCaseB2 --mMess=17782794100.38923 --LAMBDA=1000000.0 --tanBeta=10 --beta2=0 --beta3=0 --thetavev=0 --betaeps=0.0 --cgrav=1. > test.slha\n",
      "./softsusy-4.1.4-Garon/softpoint.x FGMCaseB2 --mMess=31622776601.683792 --LAMBDA=1000000.0 --tanBeta=10 --beta2=0 --beta3=0 --thetavev=0 --betaeps=0.0 --cgrav=1. > test.slha\n",
      "./softsusy-4.1.4-Garon/softpoint.x FGMCaseB2 --mMess=56234132519.034904 --LAMBDA=1000000.0 --tanBeta=10 --beta2=0 --beta3=0 --thetavev=0 --betaeps=0.0 --cgrav=1. > test.slha\n",
      "./softsusy-4.1.4-Garon/softpoint.x FGMCaseB2 --mMess=100000000000.0 --LAMBDA=1000000.0 --tanBeta=10 --beta2=0 --beta3=0 --thetavev=0 --betaeps=0.0 --cgrav=1. > test.slha\n",
      "./softsusy-4.1.4-Garon/softpoint.x FGMCaseB2 --mMess=177827941003.89227 --LAMBDA=1000000.0 --tanBeta=10 --beta2=0 --beta3=0 --thetavev=0 --betaeps=0.0 --cgrav=1. > test.slha\n",
      "./softsusy-4.1.4-Garon/softpoint.x FGMCaseB2 --mMess=316227766016.83795 --LAMBDA=1000000.0 --tanBeta=10 --beta2=0 --beta3=0 --thetavev=0 --betaeps=0.0 --cgrav=1. > test.slha\n",
      "./softsusy-4.1.4-Garon/softpoint.x FGMCaseB2 --mMess=562341325190.3491 --LAMBDA=1000000.0 --tanBeta=10 --beta2=0 --beta3=0 --thetavev=0 --betaeps=0.0 --cgrav=1. > test.slha\n",
      "./softsusy-4.1.4-Garon/softpoint.x FGMCaseB2 --mMess=1000000000000.0 --LAMBDA=1000000.0 --tanBeta=10 --beta2=0 --beta3=0 --thetavev=0 --betaeps=0.0 --cgrav=1. > test.slha\n",
      "./softsusy-4.1.4-Garon/softpoint.x FGMCaseB2 --mMess=1778279410038.9229 --LAMBDA=1000000.0 --tanBeta=10 --beta2=0 --beta3=0 --thetavev=0 --betaeps=0.0 --cgrav=1. > test.slha\n",
      "./softsusy-4.1.4-Garon/softpoint.x FGMCaseB2 --mMess=3162277660168.3794 --LAMBDA=1000000.0 --tanBeta=10 --beta2=0 --beta3=0 --thetavev=0 --betaeps=0.0 --cgrav=1. > test.slha\n",
      "./softsusy-4.1.4-Garon/softpoint.x FGMCaseB2 --mMess=5623413251903.491 --LAMBDA=1000000.0 --tanBeta=10 --beta2=0 --beta3=0 --thetavev=0 --betaeps=0.0 --cgrav=1. > test.slha\n",
      "./softsusy-4.1.4-Garon/softpoint.x FGMCaseB2 --mMess=10000000000000.0 --LAMBDA=1000000.0 --tanBeta=10 --beta2=0 --beta3=0 --thetavev=0 --betaeps=0.0 --cgrav=1. > test.slha\n",
      "./softsusy-4.1.4-Garon/softpoint.x FGMCaseB2 --mMess=17782794100389.227 --LAMBDA=1000000.0 --tanBeta=10 --beta2=0 --beta3=0 --thetavev=0 --betaeps=0.0 --cgrav=1. > test.slha\n",
      "./softsusy-4.1.4-Garon/softpoint.x FGMCaseB2 --mMess=31622776601683.793 --LAMBDA=1000000.0 --tanBeta=10 --beta2=0 --beta3=0 --thetavev=0 --betaeps=0.0 --cgrav=1. > test.slha\n",
      "./softsusy-4.1.4-Garon/softpoint.x FGMCaseB2 --mMess=56234132519034.91 --LAMBDA=1000000.0 --tanBeta=10 --beta2=0 --beta3=0 --thetavev=0 --betaeps=0.0 --cgrav=1. > test.slha\n",
      "./softsusy-4.1.4-Garon/softpoint.x FGMCaseB2 --mMess=100000000000000.0 --LAMBDA=1000000.0 --tanBeta=10 --beta2=0 --beta3=0 --thetavev=0 --betaeps=0.0 --cgrav=1. > test.slha\n",
      "./softsusy-4.1.4-Garon/softpoint.x FGMCaseB2 --mMess=177827941003892.28 --LAMBDA=1000000.0 --tanBeta=10 --beta2=0 --beta3=0 --thetavev=0 --betaeps=0.0 --cgrav=1. > test.slha\n",
      "./softsusy-4.1.4-Garon/softpoint.x FGMCaseB2 --mMess=316227766016837.94 --LAMBDA=1000000.0 --tanBeta=10 --beta2=0 --beta3=0 --thetavev=0 --betaeps=0.0 --cgrav=1. > test.slha\n",
      "./softsusy-4.1.4-Garon/softpoint.x FGMCaseB2 --mMess=562341325190349.06 --LAMBDA=1000000.0 --tanBeta=10 --beta2=0 --beta3=0 --thetavev=0 --betaeps=0.0 --cgrav=1. > test.slha\n",
      "./softsusy-4.1.4-Garon/softpoint.x FGMCaseB2 --mMess=1000000000000000.0 --LAMBDA=1000000.0 --tanBeta=10 --beta2=0 --beta3=0 --thetavev=0 --betaeps=0.0 --cgrav=1. > test.slha\n",
      "./softsusy-4.1.4-Garon/softpoint.x FGMCaseB2 --mMess=1778279410038922.8 --LAMBDA=1000000.0 --tanBeta=10 --beta2=0 --beta3=0 --thetavev=0 --betaeps=0.0 --cgrav=1. > test.slha\n",
      "./softsusy-4.1.4-Garon/softpoint.x FGMCaseB2 --mMess=3162277660168379.5 --LAMBDA=1000000.0 --tanBeta=10 --beta2=0 --beta3=0 --thetavev=0 --betaeps=0.0 --cgrav=1. > test.slha\n",
      "./softsusy-4.1.4-Garon/softpoint.x FGMCaseB2 --mMess=5623413251903491.0 --LAMBDA=1000000.0 --tanBeta=10 --beta2=0 --beta3=0 --thetavev=0 --betaeps=0.0 --cgrav=1. > test.slha\n",
      "./softsusy-4.1.4-Garon/softpoint.x FGMCaseB2 --mMess=1e+16 --LAMBDA=1000000.0 --tanBeta=10 --beta2=0 --beta3=0 --thetavev=0 --betaeps=0.0 --cgrav=1. > test.slha\n"
     ]
    }
   ],
   "source": [
    "gridmMess = logspace(6,16,41)\n",
    "results = []\n",
    "for i in gridmMess:\n",
    "    results.append(slhaPoint(model='FGMCaseB2',mMess=i,mode='Point')[0])"
   ]
  },
  {
   "cell_type": "code",
   "execution_count": 12,
   "metadata": {},
   "outputs": [
    {
     "data": {
      "text/plain": [
       "[<matplotlib.lines.Line2D at 0x122b692e8>]"
      ]
     },
     "execution_count": 12,
     "metadata": {},
     "output_type": "execute_result"
    },
    {
     "data": {
      "image/png": "[encoded data removed]",
      "text/plain": [
       "<Figure size 432x288 with 1 Axes>"
      ]
     },
     "metadata": {},
     "output_type": "display_data"
    }
   ],
   "source": [
    "plt.plot(results)"
   ]
  },
  {
   "cell_type": "code",
   "execution_count": 8,
   "metadata": {},
   "outputs": [
    {
     "name": "stdout",
     "output_type": "stream",
     "text": [
      "[126.994123, 126.994123, 126.994123, 126.994123, 126.994123, 126.994123, 126.994123, 126.994123, 126.994123, 126.994123, 126.994123, 126.994123, 126.994123, 126.994123, 126.994123, 126.994123, 126.994123, 126.994123, 126.994123, 126.994123, 126.994123, 126.994123, 126.994123, 126.994123, 126.994123, 126.994123, 126.994123, 126.994123, 126.994123, 126.994123, 126.994123, 126.994123, 126.994123, 126.994123, 126.994123, 126.994123, 126.994123, 126.994123, 126.994123, 126.994123, 126.994123]\n"
     ]
    }
   ],
   "source": [
    "print(results)"
   ]
  },
  {
   "cell_type": "code",
   "execution_count": null,
   "metadata": {},
   "outputs": [],
   "source": []
  }
 ],
 "metadata": {
  "kernelspec": {
   "display_name": "lisa",
   "language": "python",
   "name": "lisa"
  },
  "language_info": {
   "codemirror_mode": {
    "name": "ipython",
    "version": 3
   },
   "file_extension": ".py",
   "mimetype": "text/x-python",
   "name": "python",
   "nbconvert_exporter": "python",
   "pygments_lexer": "ipython3",
   "version": "3.6.6"
  }
 },
 "nbformat": 4,
 "nbformat_minor": 2
}

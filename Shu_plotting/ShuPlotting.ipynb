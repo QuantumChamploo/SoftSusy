{
 "cells": [
  {
   "cell_type": "code",
   "execution_count": 1,
   "metadata": {},
   "outputs": [
    {
     "name": "stdout",
     "output_type": "stream",
     "text": [
      "hello\n"
     ]
    }
   ],
   "source": [
    "import pyslha #For interacting with SLHA files\n",
    "import subprocess #Running command\n",
    "import scipy #Numeric Library\n",
    "import sympy #symbolic computation - might not be used here\n",
    "from scipy import optimize\n",
    "from sympy import *\n",
    "import matplotlib.pyplot as plt\n",
    "from matplotlib.ticker import FuncFormatter\n",
    "import numpy as np\n",
    "%matplotlib inline\n",
    "from numpy import logspace, linspace \n",
    "from itertools import product\n",
    "import glob #filehandling\n",
    "from subprocess import call\n",
    "import os\n",
    "#Path to modified verison of Softsusy \n",
    "SoftSUSY_PATH = 'softsusy-4.1.4-Neil/softpoint.x' \n",
    "mHiggs = 125 #Higgs Mass for paper\n",
    "print (\"hello\")"
   ]
  },
  {
   "cell_type": "code",
   "execution_count": 2,
   "metadata": {},
   "outputs": [
    {
     "name": "stdout",
     "output_type": "stream",
     "text": [
      "/Users/glyph/SoftSusy/Shu_plotting\n"
     ]
    }
   ],
   "source": [
    "import os\n",
    "current_path = os.getcwd()\n",
    "print(current_path)"
   ]
  },
  {
   "cell_type": "code",
   "execution_count": 3,
   "metadata": {},
   "outputs": [],
   "source": [
    "def slhaPoint(model='FGMCaseShu', mMess=1e12, tanBeta=10, epsu=2,epsd=2,epse=2, betaeps=.01, thetavev=0, \n",
    "              outputFile='test.slha', Lambda=1e6, mode='Point', LambdaGuess=6e5,particle=25):\n",
    "    '''\n",
    "    Code for interacting with SoftSUSY and running the models we've been looking at.\n",
    "    The models themselves are encoded in a modified version of it. \n",
    "    This may seem like extra work because it accepts an arbitrary SLHA2 file, but since our models\n",
    "    include fitted parameters, like the Yukawa couplings, we need to use the values that it calculates\n",
    "    during the running. \n",
    "    The parameters:\n",
    "    model - the name of the model in SoftSUSY\n",
    "    mMess - the messenger scale\n",
    "    tanBeta - tan beta\n",
    "    beta2 - beta2\n",
    "    beta3 - beta3\n",
    "    outputFile - the name of the file to write to (this step could conceivably be removed by writing the console output to memory)\n",
    "    Lambda - F/M\n",
    "    mode - There are 3 modes\n",
    "        'Fit' - uses Newton's method from a few different starting points\n",
    "        'Bisect' - uses a Bisection routine from a few different brackets\n",
    "        'Point' - runs a single point\n",
    "    LambdaGuess - a guess at the value of Lambda for the 'Fit' mode.\n",
    "    particle - the pdg code for the particle that we are interested in getting data for\n",
    "    \n",
    "    note that current implementation, fit and bisect only work for higgs, could fix, but it could only really work for\n",
    "    particles with known values\n",
    "    '''\n",
    "    \n",
    "    dataline =\"./{} {} --mMess={} --LAMBDA={} --tanBeta={} --epsu={} --epsd={} --epse={} --thetavev={} --betaeps={} --cgrav=1. > {}\"\n",
    "    startingPoints = [LambdaGuess, 1e6, 5e6, 6e4]\n",
    "    bracket, l = [(2,5), (5,10), (2,10), (2,8), (4,8), (1,3), (8,12)], 0\n",
    "    \n",
    "    #a helper functin that takes a value of x (Lambda), runs it (line 2) and then reads in the Higgs mass\n",
    "    def f(x):\n",
    "        string = dataline.format(SoftSUSY_PATH, model, str(mMess), str(x), \n",
    "                                 str(tanBeta), str(epsu), str(epsd), str(epse), str(thetavev), str(betaeps), outputFile)\n",
    "        subprocess.Popen(string, stdout=None, shell=True).wait()\n",
    "        print (\"the string is \")\n",
    "        print (string)\n",
    "        return pyslha.read(outputFile).blocks['MASS'][particle]\n",
    "    \n",
    "    if mode == 'Fit':\n",
    "        #print ('in fit')\n",
    "        a, i = 0, 0\n",
    "        while((a <= 0) & (i < len(startingPoints))):\n",
    "            try:\n",
    "                #Newton's method\n",
    "                print (\"in try\")\n",
    "                a = optimize.newton(f, startingPoints[i], tol=1e-4)\n",
    "                print (\"in newton\")\n",
    "                print (a)\n",
    "            except:\n",
    "                print ('got excepted')\n",
    "                a = 0\n",
    "                i += 1\n",
    "        if (a>0):\n",
    "            data = pyslha.read(outputFile)\n",
    "            #accept or reject based on the deviation from the Higgs mass\n",
    "            if (-0.1 < data.blocks['MASS'][25]-125 < 0.1) :\n",
    "                try:\n",
    "                    #if there's something in this location SoftSUSY has an error.\n",
    "                    data.blocks['SPINFO'][3]\n",
    "                except:\n",
    "                    return data\n",
    "    elif mode == 'Bisect':\n",
    "        for k in bracket:\n",
    "            print(k)\n",
    "            try:\n",
    "                l = optimize.brentq(f, k[0] * 1e5, k[1] * 1e5, rtol=1e-4)\n",
    "                if l:\n",
    "                    break\n",
    "            except:\n",
    "                #print('nada')\n",
    "                continue\n",
    "        if l:\n",
    "            data = pyslha.read(outputFile)\n",
    "            print(data.blocks['MASS'][25])\n",
    "            if (-0.25 < data.blocks['MASS'][25]-125 < 0.25) :\n",
    "                try:\n",
    "                    data.blocks['SPINFO'][3]\n",
    "                except:\n",
    "                    return data\n",
    "            else:\n",
    "                #the bisection routine tends to get things close but not exact, so it calls 'Fit' if it's close.\n",
    "                return slhaPoint(model, mMess, tanBeta, beta2, beta3,\\\n",
    "                              outputFile, Lambda, 'Fit', LambdaGuess=data.blocks['MINPAR'][1])\n",
    "        else:\n",
    "            #just to be safe (but is probably unneded)\n",
    "            return slhaPoint(model, mMess, tanBeta, beta2, beta3,\\\n",
    "                              outputFile, Lambda, 'Fit')\n",
    "    else:\n",
    "        #runs a single point\n",
    "        try:\n",
    "            f(Lambda)\n",
    "            data = pyslha.read(outputFile)\n",
    "            return data.blocks['MASS'][particle], data\n",
    "        except (pyslha.ParseError, RuntimeError):\n",
    "            return \"No Solution\", 0"
   ]
  },
  {
   "cell_type": "code",
   "execution_count": 4,
   "metadata": {},
   "outputs": [
    {
     "name": "stdout",
     "output_type": "stream",
     "text": [
      "the string is \n",
      "./softsusy-4.1.4-Neil/softpoint.x FGMCaseShu --mMess=1000000000000.0 --LAMBDA=1000000.0 --tanBeta=10 --epsu=0.0001 --epsd=0.001 --epse=0.0001 --thetavev=0 --betaeps=0.01 --cgrav=1. > test.slha\n"
     ]
    },
    {
     "name": "stderr",
     "output_type": "stream",
     "text": [
      "Ignoring unknown section type: in\n",
      "Ignoring unknown section type: in\n"
     ]
    }
   ],
   "source": [
    "gd = slhaPoint(epse = .0001, epsd = .001, epsu = .0001)"
   ]
  },
  {
   "cell_type": "code",
   "execution_count": 14,
   "metadata": {},
   "outputs": [
    {
     "ename": "SyntaxError",
     "evalue": "invalid syntax (<ipython-input-14-77277218fdd4>, line 1)",
     "output_type": "error",
     "traceback": [
      "\u001b[0;36m  File \u001b[0;32m\"<ipython-input-14-77277218fdd4>\"\u001b[0;36m, line \u001b[0;32m1\u001b[0m\n\u001b[0;31m    print(SPINFO is in gd[1].blocks)\u001b[0m\n\u001b[0m                     ^\u001b[0m\n\u001b[0;31mSyntaxError\u001b[0m\u001b[0;31m:\u001b[0m invalid syntax\n"
     ]
    }
   ],
   "source": [
    "print(SPINFO is in gd[1].blocks)"
   ]
  },
  {
   "cell_type": "code",
   "execution_count": 33,
   "metadata": {},
   "outputs": [
    {
     "ename": "KeyError",
     "evalue": "('S', 'D', 'F', 'S')",
     "output_type": "error",
     "traceback": [
      "\u001b[0;31m---------------------------------------------------------------------------\u001b[0m",
      "\u001b[0;31mKeyError\u001b[0m                                  Traceback (most recent call last)",
      "\u001b[0;32m<ipython-input-33-1b536411876d>\u001b[0m in \u001b[0;36m<module>\u001b[0;34m\u001b[0m\n\u001b[0;32m----> 1\u001b[0;31m \u001b[0mgd\u001b[0m\u001b[0;34m[\u001b[0m\u001b[0;36m1\u001b[0m\u001b[0;34m]\u001b[0m\u001b[0;34m.\u001b[0m\u001b[0mblocks\u001b[0m\u001b[0;34m[\u001b[0m\u001b[0;34m\"SDFS\"\u001b[0m\u001b[0;34m]\u001b[0m\u001b[0;34m\u001b[0m\u001b[0m\n\u001b[0m",
      "\u001b[0;32m/Library/Frameworks/Python.framework/Versions/3.6/lib/python3.6/site-packages/pyslha.py\u001b[0m in \u001b[0;36m__getitem__\u001b[0;34m(self, key)\u001b[0m\n\u001b[1;32m    168\u001b[0m \u001b[0;34m\u001b[0m\u001b[0m\n\u001b[1;32m    169\u001b[0m     \u001b[0;32mdef\u001b[0m \u001b[0m__getitem__\u001b[0m\u001b[0;34m(\u001b[0m\u001b[0mself\u001b[0m\u001b[0;34m,\u001b[0m \u001b[0mkey\u001b[0m\u001b[0;34m)\u001b[0m\u001b[0;34m:\u001b[0m\u001b[0;34m\u001b[0m\u001b[0m\n\u001b[0;32m--> 170\u001b[0;31m         \u001b[0;32mreturn\u001b[0m \u001b[0msuper\u001b[0m\u001b[0;34m(\u001b[0m\u001b[0m_dict\u001b[0m\u001b[0;34m,\u001b[0m \u001b[0mself\u001b[0m\u001b[0;34m)\u001b[0m\u001b[0;34m.\u001b[0m\u001b[0m__getitem__\u001b[0m\u001b[0;34m(\u001b[0m\u001b[0m_autotuple\u001b[0m\u001b[0;34m(\u001b[0m\u001b[0mkey\u001b[0m\u001b[0;34m)\u001b[0m\u001b[0;34m)\u001b[0m\u001b[0;34m\u001b[0m\u001b[0m\n\u001b[0m\u001b[1;32m    171\u001b[0m \u001b[0;34m\u001b[0m\u001b[0m\n\u001b[1;32m    172\u001b[0m     \u001b[0;32mdef\u001b[0m \u001b[0m__setitem__\u001b[0m\u001b[0;34m(\u001b[0m\u001b[0mself\u001b[0m\u001b[0;34m,\u001b[0m \u001b[0mkey\u001b[0m\u001b[0;34m,\u001b[0m \u001b[0mval\u001b[0m\u001b[0;34m)\u001b[0m\u001b[0;34m:\u001b[0m\u001b[0;34m\u001b[0m\u001b[0m\n",
      "\u001b[0;31mKeyError\u001b[0m: ('S', 'D', 'F', 'S')"
     ]
    }
   ],
   "source": [
    "gd[1].blocks[\"SDFS\"]"
   ]
  },
  {
   "cell_type": "code",
   "execution_count": 15,
   "metadata": {},
   "outputs": [
    {
     "data": {
      "text/plain": [
       "(126.807235, <PySLHA Doc: 21 blocks, 34 decays, 0 xsections>)"
      ]
     },
     "execution_count": 15,
     "metadata": {},
     "output_type": "execute_result"
    }
   ],
   "source": [
    "gd"
   ]
  },
  {
   "cell_type": "code",
   "execution_count": 17,
   "metadata": {},
   "outputs": [
    {
     "data": {
      "text/plain": [
       "(126.807235, <PySLHA Doc: 21 blocks, 34 decays, 0 xsections>)"
      ]
     },
     "execution_count": 17,
     "metadata": {},
     "output_type": "execute_result"
    }
   ],
   "source": [
    "gd"
   ]
  },
  {
   "cell_type": "code",
   "execution_count": null,
   "metadata": {},
   "outputs": [],
   "source": []
  }
 ],
 "metadata": {
  "kernelspec": {
   "display_name": "lisa",
   "language": "python",
   "name": "lisa"
  },
  "language_info": {
   "codemirror_mode": {
    "name": "ipython",
    "version": 3
   },
   "file_extension": ".py",
   "mimetype": "text/x-python",
   "name": "python",
   "nbconvert_exporter": "python",
   "pygments_lexer": "ipython3",
   "version": "3.6.5"
  }
 },
 "nbformat": 4,
 "nbformat_minor": 2
}
